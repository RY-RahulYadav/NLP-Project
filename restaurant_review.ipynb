{
 "cells": [
  {
   "cell_type": "code",
   "execution_count": 21,
   "metadata": {
    "executionInfo": {
     "elapsed": 448,
     "status": "ok",
     "timestamp": 1712689194548,
     "user": {
      "displayName": "Tushar_ jindal_088",
      "userId": "09309807250554195080"
     },
     "user_tz": -330
    },
    "id": "jnphv2S_b_2c"
   },
   "outputs": [],
   "source": [
    "import pandas as pd\n",
    "import numpy as np\n",
    "import matplotlib.pyplot as plt\n",
    "import seaborn as sns\n",
    "import re\n",
    "import nltk"
   ]
  },
  {
   "cell_type": "code",
   "execution_count": 22,
   "metadata": {
    "colab": {
     "base_uri": "https://localhost:8080/"
    },
    "executionInfo": {
     "elapsed": 420,
     "status": "ok",
     "timestamp": 1712689387919,
     "user": {
      "displayName": "Tushar_ jindal_088",
      "userId": "09309807250554195080"
     },
     "user_tz": -330
    },
    "id": "KX4IAi9seDoy",
    "outputId": "97e78436-e92a-49e7-dcd0-0944902cb222"
   },
   "outputs": [
    {
     "name": "stderr",
     "output_type": "stream",
     "text": [
      "[nltk_data] Downloading package stopwords to\n",
      "[nltk_data]     C:\\Users\\rahul\\AppData\\Roaming\\nltk_data...\n",
      "[nltk_data]   Package stopwords is already up-to-date!\n",
      "[nltk_data] Downloading package punkt to\n",
      "[nltk_data]     C:\\Users\\rahul\\AppData\\Roaming\\nltk_data...\n",
      "[nltk_data]   Package punkt is already up-to-date!\n",
      "[nltk_data] Downloading package wordnet to\n",
      "[nltk_data]     C:\\Users\\rahul\\AppData\\Roaming\\nltk_data...\n",
      "[nltk_data]   Package wordnet is already up-to-date!\n"
     ]
    },
    {
     "data": {
      "text/plain": [
       "True"
      ]
     },
     "execution_count": 22,
     "metadata": {},
     "output_type": "execute_result"
    }
   ],
   "source": [
    "nltk.download('stopwords')\n",
    "nltk.download('punkt')\n",
    "nltk.download('wordnet')"
   ]
  },
  {
   "cell_type": "code",
   "execution_count": 23,
   "metadata": {
    "executionInfo": {
     "elapsed": 2,
     "status": "ok",
     "timestamp": 1712689390104,
     "user": {
      "displayName": "Tushar_ jindal_088",
      "userId": "09309807250554195080"
     },
     "user_tz": -330
    },
    "id": "hF1JADV3cB43"
   },
   "outputs": [],
   "source": [
    "df = pd.read_csv(\"output.csv\")"
   ]
  },
  {
   "cell_type": "code",
   "execution_count": 24,
   "metadata": {
    "colab": {
     "base_uri": "https://localhost:8080/",
     "height": 206
    },
    "executionInfo": {
     "elapsed": 416,
     "status": "ok",
     "timestamp": 1712689432437,
     "user": {
      "displayName": "Tushar_ jindal_088",
      "userId": "09309807250554195080"
     },
     "user_tz": -330
    },
    "id": "1oWKNGptcpkR",
    "outputId": "8c21cf35-d6a7-4225-a895-2fa07c8fee29"
   },
   "outputs": [
    {
     "data": {
      "text/html": [
       "<div>\n",
       "<style scoped>\n",
       "    .dataframe tbody tr th:only-of-type {\n",
       "        vertical-align: middle;\n",
       "    }\n",
       "\n",
       "    .dataframe tbody tr th {\n",
       "        vertical-align: top;\n",
       "    }\n",
       "\n",
       "    .dataframe thead th {\n",
       "        text-align: right;\n",
       "    }\n",
       "</style>\n",
       "<table border=\"1\" class=\"dataframe\">\n",
       "  <thead>\n",
       "    <tr style=\"text-align: right;\">\n",
       "      <th></th>\n",
       "      <th>Review</th>\n",
       "      <th>Liked</th>\n",
       "    </tr>\n",
       "  </thead>\n",
       "  <tbody>\n",
       "    <tr>\n",
       "      <th>0</th>\n",
       "      <td>Wow... Loved this place.</td>\n",
       "      <td>1</td>\n",
       "    </tr>\n",
       "    <tr>\n",
       "      <th>1</th>\n",
       "      <td>Crust is not good.</td>\n",
       "      <td>0</td>\n",
       "    </tr>\n",
       "    <tr>\n",
       "      <th>2</th>\n",
       "      <td>Not tasty and the texture was just nasty.</td>\n",
       "      <td>0</td>\n",
       "    </tr>\n",
       "    <tr>\n",
       "      <th>3</th>\n",
       "      <td>Stopped by during the late May bank holiday of...</td>\n",
       "      <td>1</td>\n",
       "    </tr>\n",
       "    <tr>\n",
       "      <th>4</th>\n",
       "      <td>The selection on the menu was great and so wer...</td>\n",
       "      <td>1</td>\n",
       "    </tr>\n",
       "  </tbody>\n",
       "</table>\n",
       "</div>"
      ],
      "text/plain": [
       "                                              Review  Liked\n",
       "0                           Wow... Loved this place.      1\n",
       "1                                 Crust is not good.      0\n",
       "2          Not tasty and the texture was just nasty.      0\n",
       "3  Stopped by during the late May bank holiday of...      1\n",
       "4  The selection on the menu was great and so wer...      1"
      ]
     },
     "execution_count": 24,
     "metadata": {},
     "output_type": "execute_result"
    }
   ],
   "source": [
    "df.head()"
   ]
  },
  {
   "cell_type": "code",
   "execution_count": 25,
   "metadata": {
    "executionInfo": {
     "elapsed": 2,
     "status": "ok",
     "timestamp": 1712689435523,
     "user": {
      "displayName": "Tushar_ jindal_088",
      "userId": "09309807250554195080"
     },
     "user_tz": -330
    },
    "id": "0i5aV1Hbc7Lh"
   },
   "outputs": [],
   "source": [
    "# df.drop(columns=[\"ArticleId\"] , inplace =True)"
   ]
  },
  {
   "cell_type": "code",
   "execution_count": 26,
   "metadata": {
    "colab": {
     "base_uri": "https://localhost:8080/"
    },
    "executionInfo": {
     "elapsed": 8,
     "status": "ok",
     "timestamp": 1712689437285,
     "user": {
      "displayName": "Tushar_ jindal_088",
      "userId": "09309807250554195080"
     },
     "user_tz": -330
    },
    "id": "e5QngPqycsrb",
    "outputId": "b9b05a2d-0d85-47cd-a66b-3d950bb3a403"
   },
   "outputs": [
    {
     "name": "stdout",
     "output_type": "stream",
     "text": [
      "<class 'pandas.core.frame.DataFrame'>\n",
      "RangeIndex: 1000 entries, 0 to 999\n",
      "Data columns (total 2 columns):\n",
      " #   Column   Non-Null Count  Dtype \n",
      "---  ------   --------------  ----- \n",
      " 0    Review  1000 non-null   object\n",
      " 1   Liked    1000 non-null   int64 \n",
      "dtypes: int64(1), object(1)\n",
      "memory usage: 15.8+ KB\n"
     ]
    }
   ],
   "source": [
    "df.info()"
   ]
  },
  {
   "cell_type": "code",
   "execution_count": 27,
   "metadata": {
    "colab": {
     "base_uri": "https://localhost:8080/"
    },
    "executionInfo": {
     "elapsed": 3,
     "status": "ok",
     "timestamp": 1712689454141,
     "user": {
      "displayName": "Tushar_ jindal_088",
      "userId": "09309807250554195080"
     },
     "user_tz": -330
    },
    "id": "LMjasSlKcswm",
    "outputId": "da87fafd-e417-432f-ce0e-c10e3f4bad4a"
   },
   "outputs": [
    {
     "data": {
      "text/plain": [
       " Review    0\n",
       "Liked      0\n",
       "dtype: int64"
      ]
     },
     "execution_count": 27,
     "metadata": {},
     "output_type": "execute_result"
    }
   ],
   "source": [
    "df.isnull().sum()"
   ]
  },
  {
   "cell_type": "code",
   "execution_count": 78,
   "metadata": {
    "colab": {
     "base_uri": "https://localhost:8080/"
    },
    "executionInfo": {
     "elapsed": 406,
     "status": "ok",
     "timestamp": 1712689552383,
     "user": {
      "displayName": "Tushar_ jindal_088",
      "userId": "09309807250554195080"
     },
     "user_tz": -330
    },
    "id": "WERuIJHjcsze",
    "outputId": "1e8df5d0-5cf3-4da0-9f39-6d1da125346a"
   },
   "outputs": [
    {
     "name": "stdout",
     "output_type": "stream",
     "text": [
      "5\n"
     ]
    }
   ],
   "source": [
    "print(df.duplicated().sum())\n",
    "df.drop_duplicates(inplace=True)\n",
    "df[\"Liked\"] = df[\"Liked\"].astype(int)"
   ]
  },
  {
   "cell_type": "markdown",
   "metadata": {
    "id": "b4MRjdE0tRP9"
   },
   "source": [
    "### Histogram of News Category Column"
   ]
  },
  {
   "cell_type": "code",
   "execution_count": 79,
   "metadata": {
    "colab": {
     "base_uri": "https://localhost:8080/",
     "height": 280
    },
    "executionInfo": {
     "elapsed": 1213,
     "status": "ok",
     "timestamp": 1712689595767,
     "user": {
      "displayName": "Tushar_ jindal_088",
      "userId": "09309807250554195080"
     },
     "user_tz": -330
    },
    "id": "Z-akZ4Gucs2K",
    "outputId": "62045ed0-58fb-4d6c-c76e-e0ef7ad8ea6d"
   },
   "outputs": [
    {
     "data": {
      "text/plain": [
       "Text(0, 0.5, 'count')"
      ]
     },
     "execution_count": 79,
     "metadata": {},
     "output_type": "execute_result"
    },
    {
     "data": {
      "image/png": "[encoded data removed]",
      "text/plain": [
       "<Figure size 1200x400 with 1 Axes>"
      ]
     },
     "metadata": {},
     "output_type": "display_data"
    }
   ],
   "source": [
    "plt.figure(figsize=(12,4) )\n",
    "plt.hist(df[\"Liked\"]  , color=\"red\")\n",
    "plt.title(\"Histogram of rating\")\n",
    "plt.xlabel(\"Liked\")\n",
    "plt.ylabel(\"count\")"
   ]
  },
  {
   "cell_type": "markdown",
   "metadata": {
    "id": "s-WujUzztJSs"
   },
   "source": [
    "## Cleaning of Text Data"
   ]
  },
  {
   "cell_type": "code",
   "execution_count": 80,
   "metadata": {
    "executionInfo": {
     "elapsed": 412,
     "status": "ok",
     "timestamp": 1712689784061,
     "user": {
      "displayName": "Tushar_ jindal_088",
      "userId": "09309807250554195080"
     },
     "user_tz": -330
    },
    "id": "Lnr__jfQcs5k"
   },
   "outputs": [],
   "source": [
    "def cleaning(text):\n",
    "    text = re.sub(r'' , \"\" , text)\n",
    "    text = re.sub(r'[^a-zA-Z0-9\\s]' , \"\" , text)\n",
    "    text = text.lower()\n",
    "    return text\n",
    "df[\" Review\"] = df[\" Review\"].apply(cleaning)"
   ]
  },
  {
   "cell_type": "code",
   "execution_count": 81,
   "metadata": {
    "colab": {
     "base_uri": "https://localhost:8080/",
     "height": 206
    },
    "executionInfo": {
     "elapsed": 5,
     "status": "ok",
     "timestamp": 1712689790212,
     "user": {
      "displayName": "Tushar_ jindal_088",
      "userId": "09309807250554195080"
     },
     "user_tz": -330
    },
    "id": "qgfXOLXzctQF",
    "outputId": "0ffa79a6-f561-4c11-ff64-33b9915535a6"
   },
   "outputs": [
    {
     "data": {
      "text/html": [
       "<div>\n",
       "<style scoped>\n",
       "    .dataframe tbody tr th:only-of-type {\n",
       "        vertical-align: middle;\n",
       "    }\n",
       "\n",
       "    .dataframe tbody tr th {\n",
       "        vertical-align: top;\n",
       "    }\n",
       "\n",
       "    .dataframe thead th {\n",
       "        text-align: right;\n",
       "    }\n",
       "</style>\n",
       "<table border=\"1\" class=\"dataframe\">\n",
       "  <thead>\n",
       "    <tr style=\"text-align: right;\">\n",
       "      <th></th>\n",
       "      <th>Review</th>\n",
       "      <th>Liked</th>\n",
       "    </tr>\n",
       "  </thead>\n",
       "  <tbody>\n",
       "    <tr>\n",
       "      <th>518</th>\n",
       "      <td>anyway think go back</td>\n",
       "      <td>0</td>\n",
       "    </tr>\n",
       "    <tr>\n",
       "      <th>699</th>\n",
       "      <td>anyways food definitely filling price pay expect</td>\n",
       "      <td>0</td>\n",
       "    </tr>\n",
       "    <tr>\n",
       "      <th>616</th>\n",
       "      <td>friend like bloody mary</td>\n",
       "      <td>0</td>\n",
       "    </tr>\n",
       "    <tr>\n",
       "      <th>271</th>\n",
       "      <td>cant go wrong food</td>\n",
       "      <td>1</td>\n",
       "    </tr>\n",
       "    <tr>\n",
       "      <th>163</th>\n",
       "      <td>avoid cost</td>\n",
       "      <td>0</td>\n",
       "    </tr>\n",
       "  </tbody>\n",
       "</table>\n",
       "</div>"
      ],
      "text/plain": [
       "                                               Review  Liked\n",
       "518                              anyway think go back      0\n",
       "699  anyways food definitely filling price pay expect      0\n",
       "616                           friend like bloody mary      0\n",
       "271                                cant go wrong food      1\n",
       "163                                        avoid cost      0"
      ]
     },
     "execution_count": 81,
     "metadata": {},
     "output_type": "execute_result"
    }
   ],
   "source": [
    "df.sample(5)"
   ]
  },
  {
   "cell_type": "markdown",
   "metadata": {
    "id": "kQcHjnI6r_6q"
   },
   "source": [
    "## Remove stopwords , Apply lemmatization"
   ]
  },
  {
   "cell_type": "code",
   "execution_count": 82,
   "metadata": {
    "executionInfo": {
     "elapsed": 402,
     "status": "ok",
     "timestamp": 1712689808497,
     "user": {
      "displayName": "Tushar_ jindal_088",
      "userId": "09309807250554195080"
     },
     "user_tz": -330
    },
    "id": "iVzDhZNwdvBT"
   },
   "outputs": [],
   "source": [
    "from nltk.tokenize import word_tokenize\n",
    "from nltk.corpus import stopwords\n",
    "stopwords = set(stopwords.words(\"english\"))"
   ]
  },
  {
   "cell_type": "code",
   "execution_count": 83,
   "metadata": {
    "executionInfo": {
     "elapsed": 3,
     "status": "ok",
     "timestamp": 1712689811637,
     "user": {
      "displayName": "Tushar_ jindal_088",
      "userId": "09309807250554195080"
     },
     "user_tz": -330
    },
    "id": "_BOV1HhHem6E"
   },
   "outputs": [],
   "source": [
    "from nltk.stem import WordNetLemmatizer\n",
    "lemmatizer=WordNetLemmatizer()"
   ]
  },
  {
   "cell_type": "code",
   "execution_count": 84,
   "metadata": {
    "executionInfo": {
     "elapsed": 415,
     "status": "ok",
     "timestamp": 1712689903811,
     "user": {
      "displayName": "Tushar_ jindal_088",
      "userId": "09309807250554195080"
     },
     "user_tz": -330
    },
    "id": "KVZJnKRdctSL"
   },
   "outputs": [],
   "source": [
    "new_sent =[]\n",
    "corpus_for_word2vec=[]\n",
    "for sent in df[\" Review\"]:\n",
    "   sent_arr = word_tokenize(sent)\n",
    "   sent_arr =[lemmatizer.lemmatize(word) for word in sent_arr if word not in stopwords]\n",
    "   sent = \" \".join(sent_arr)\n",
    "   corpus_for_word2vec.append(sent_arr)\n",
    "   new_sent.append(sent)\n",
    "\n",
    "df[\" Review\"] = new_sent"
   ]
  },
  {
   "cell_type": "code",
   "execution_count": 85,
   "metadata": {
    "colab": {
     "base_uri": "https://localhost:8080/",
     "height": 293
    },
    "executionInfo": {
     "elapsed": 440,
     "status": "ok",
     "timestamp": 1712686183841,
     "user": {
      "displayName": "Tushar_ jindal_088",
      "userId": "09309807250554195080"
     },
     "user_tz": -330
    },
    "id": "S-Zi0TrtctUt",
    "outputId": "55168d4e-faaf-46c6-8670-f8944a980165"
   },
   "outputs": [
    {
     "data": {
      "text/html": [
       "<div>\n",
       "<style scoped>\n",
       "    .dataframe tbody tr th:only-of-type {\n",
       "        vertical-align: middle;\n",
       "    }\n",
       "\n",
       "    .dataframe tbody tr th {\n",
       "        vertical-align: top;\n",
       "    }\n",
       "\n",
       "    .dataframe thead th {\n",
       "        text-align: right;\n",
       "    }\n",
       "</style>\n",
       "<table border=\"1\" class=\"dataframe\">\n",
       "  <thead>\n",
       "    <tr style=\"text-align: right;\">\n",
       "      <th></th>\n",
       "      <th>Review</th>\n",
       "      <th>Liked</th>\n",
       "    </tr>\n",
       "  </thead>\n",
       "  <tbody>\n",
       "    <tr>\n",
       "      <th>0</th>\n",
       "      <td>wow loved place</td>\n",
       "      <td>1</td>\n",
       "    </tr>\n",
       "    <tr>\n",
       "      <th>1</th>\n",
       "      <td>crust good</td>\n",
       "      <td>0</td>\n",
       "    </tr>\n",
       "    <tr>\n",
       "      <th>2</th>\n",
       "      <td>tasty texture nasty</td>\n",
       "      <td>0</td>\n",
       "    </tr>\n",
       "    <tr>\n",
       "      <th>3</th>\n",
       "      <td>stopped late may bank holiday rick steve recom...</td>\n",
       "      <td>1</td>\n",
       "    </tr>\n",
       "    <tr>\n",
       "      <th>4</th>\n",
       "      <td>selection menu great price</td>\n",
       "      <td>1</td>\n",
       "    </tr>\n",
       "  </tbody>\n",
       "</table>\n",
       "</div>"
      ],
      "text/plain": [
       "                                              Review  Liked\n",
       "0                                    wow loved place      1\n",
       "1                                         crust good      0\n",
       "2                                tasty texture nasty      0\n",
       "3  stopped late may bank holiday rick steve recom...      1\n",
       "4                         selection menu great price      1"
      ]
     },
     "execution_count": 85,
     "metadata": {},
     "output_type": "execute_result"
    }
   ],
   "source": [
    "df.head()"
   ]
  },
  {
   "cell_type": "code",
   "execution_count": null,
   "metadata": {
    "id": "1yH4Ioz-slFB"
   },
   "outputs": [],
   "source": []
  },
  {
   "cell_type": "markdown",
   "metadata": {
    "id": "fZ6jU9eGsRKv"
   },
   "source": [
    "## Split Data into Train and Test set"
   ]
  },
  {
   "cell_type": "code",
   "execution_count": 86,
   "metadata": {
    "executionInfo": {
     "elapsed": 1720,
     "status": "ok",
     "timestamp": 1712689955369,
     "user": {
      "displayName": "Tushar_ jindal_088",
      "userId": "09309807250554195080"
     },
     "user_tz": -330
    },
    "id": "dEKDLHLFhiOW"
   },
   "outputs": [],
   "source": [
    "from sklearn.model_selection import train_test_split\n",
    "x_train , x_test , y_train ,y_test = train_test_split(df[[\" Review\"]] , df[\"Liked\"]  , test_size =0.2 , random_state =42)"
   ]
  },
  {
   "cell_type": "markdown",
   "metadata": {
    "id": "Wai4avudr2J0"
   },
   "source": [
    "# Convert Text to Vector usinf Bag of Words"
   ]
  },
  {
   "cell_type": "code",
   "execution_count": 87,
   "metadata": {
    "executionInfo": {
     "elapsed": 432,
     "status": "ok",
     "timestamp": 1712690178836,
     "user": {
      "displayName": "Tushar_ jindal_088",
      "userId": "09309807250554195080"
     },
     "user_tz": -330
    },
    "id": "5TfxWid-ctXP"
   },
   "outputs": [],
   "source": [
    "from sklearn.feature_extraction.text import CountVectorizer\n",
    "bog = CountVectorizer()\n",
    "bog.fit(x_train[' Review'])\n",
    "x_train_new= pd.DataFrame(bog.transform(x_train[' Review']).toarray())\n",
    "x_test_new = pd.DataFrame(bog.transform(x_test[' Review']).toarray())"
   ]
  },
  {
   "cell_type": "code",
   "execution_count": 88,
   "metadata": {
    "colab": {
     "base_uri": "https://localhost:8080/",
     "height": 255
    },
    "executionInfo": {
     "elapsed": 5,
     "status": "ok",
     "timestamp": 1712690180207,
     "user": {
      "displayName": "Tushar_ jindal_088",
      "userId": "09309807250554195080"
     },
     "user_tz": -330
    },
    "id": "oDtlcAkDctcx",
    "outputId": "cc0ac134-4487-45da-d64a-0d2cbbc82ab4"
   },
   "outputs": [
    {
     "data": {
      "text/html": [
       "<div>\n",
       "<style scoped>\n",
       "    .dataframe tbody tr th:only-of-type {\n",
       "        vertical-align: middle;\n",
       "    }\n",
       "\n",
       "    .dataframe tbody tr th {\n",
       "        vertical-align: top;\n",
       "    }\n",
       "\n",
       "    .dataframe thead th {\n",
       "        text-align: right;\n",
       "    }\n",
       "</style>\n",
       "<table border=\"1\" class=\"dataframe\">\n",
       "  <thead>\n",
       "    <tr style=\"text-align: right;\">\n",
       "      <th></th>\n",
       "      <th>0</th>\n",
       "      <th>1</th>\n",
       "      <th>2</th>\n",
       "      <th>3</th>\n",
       "      <th>4</th>\n",
       "      <th>5</th>\n",
       "      <th>6</th>\n",
       "      <th>7</th>\n",
       "      <th>8</th>\n",
       "      <th>9</th>\n",
       "      <th>...</th>\n",
       "      <th>1588</th>\n",
       "      <th>1589</th>\n",
       "      <th>1590</th>\n",
       "      <th>1591</th>\n",
       "      <th>1592</th>\n",
       "      <th>1593</th>\n",
       "      <th>1594</th>\n",
       "      <th>1595</th>\n",
       "      <th>1596</th>\n",
       "      <th>1597</th>\n",
       "    </tr>\n",
       "  </thead>\n",
       "  <tbody>\n",
       "    <tr>\n",
       "      <th>0</th>\n",
       "      <td>0</td>\n",
       "      <td>0</td>\n",
       "      <td>0</td>\n",
       "      <td>0</td>\n",
       "      <td>0</td>\n",
       "      <td>0</td>\n",
       "      <td>0</td>\n",
       "      <td>0</td>\n",
       "      <td>0</td>\n",
       "      <td>0</td>\n",
       "      <td>...</td>\n",
       "      <td>0</td>\n",
       "      <td>0</td>\n",
       "      <td>0</td>\n",
       "      <td>0</td>\n",
       "      <td>0</td>\n",
       "      <td>0</td>\n",
       "      <td>0</td>\n",
       "      <td>0</td>\n",
       "      <td>0</td>\n",
       "      <td>0</td>\n",
       "    </tr>\n",
       "    <tr>\n",
       "      <th>1</th>\n",
       "      <td>0</td>\n",
       "      <td>0</td>\n",
       "      <td>0</td>\n",
       "      <td>0</td>\n",
       "      <td>0</td>\n",
       "      <td>0</td>\n",
       "      <td>0</td>\n",
       "      <td>0</td>\n",
       "      <td>0</td>\n",
       "      <td>0</td>\n",
       "      <td>...</td>\n",
       "      <td>0</td>\n",
       "      <td>0</td>\n",
       "      <td>0</td>\n",
       "      <td>0</td>\n",
       "      <td>0</td>\n",
       "      <td>0</td>\n",
       "      <td>0</td>\n",
       "      <td>0</td>\n",
       "      <td>0</td>\n",
       "      <td>0</td>\n",
       "    </tr>\n",
       "    <tr>\n",
       "      <th>2</th>\n",
       "      <td>0</td>\n",
       "      <td>0</td>\n",
       "      <td>0</td>\n",
       "      <td>0</td>\n",
       "      <td>0</td>\n",
       "      <td>0</td>\n",
       "      <td>0</td>\n",
       "      <td>0</td>\n",
       "      <td>0</td>\n",
       "      <td>0</td>\n",
       "      <td>...</td>\n",
       "      <td>0</td>\n",
       "      <td>0</td>\n",
       "      <td>0</td>\n",
       "      <td>0</td>\n",
       "      <td>0</td>\n",
       "      <td>0</td>\n",
       "      <td>0</td>\n",
       "      <td>0</td>\n",
       "      <td>0</td>\n",
       "      <td>0</td>\n",
       "    </tr>\n",
       "    <tr>\n",
       "      <th>3</th>\n",
       "      <td>0</td>\n",
       "      <td>0</td>\n",
       "      <td>0</td>\n",
       "      <td>0</td>\n",
       "      <td>0</td>\n",
       "      <td>0</td>\n",
       "      <td>0</td>\n",
       "      <td>0</td>\n",
       "      <td>0</td>\n",
       "      <td>0</td>\n",
       "      <td>...</td>\n",
       "      <td>0</td>\n",
       "      <td>0</td>\n",
       "      <td>0</td>\n",
       "      <td>0</td>\n",
       "      <td>0</td>\n",
       "      <td>0</td>\n",
       "      <td>0</td>\n",
       "      <td>0</td>\n",
       "      <td>0</td>\n",
       "      <td>0</td>\n",
       "    </tr>\n",
       "    <tr>\n",
       "      <th>4</th>\n",
       "      <td>0</td>\n",
       "      <td>0</td>\n",
       "      <td>0</td>\n",
       "      <td>0</td>\n",
       "      <td>0</td>\n",
       "      <td>0</td>\n",
       "      <td>0</td>\n",
       "      <td>0</td>\n",
       "      <td>0</td>\n",
       "      <td>0</td>\n",
       "      <td>...</td>\n",
       "      <td>0</td>\n",
       "      <td>0</td>\n",
       "      <td>0</td>\n",
       "      <td>0</td>\n",
       "      <td>0</td>\n",
       "      <td>0</td>\n",
       "      <td>0</td>\n",
       "      <td>0</td>\n",
       "      <td>0</td>\n",
       "      <td>1</td>\n",
       "    </tr>\n",
       "  </tbody>\n",
       "</table>\n",
       "<p>5 rows × 1598 columns</p>\n",
       "</div>"
      ],
      "text/plain": [
       "   0     1     2     3     4     5     6     7     8     9     ...  1588  \\\n",
       "0     0     0     0     0     0     0     0     0     0     0  ...     0   \n",
       "1     0     0     0     0     0     0     0     0     0     0  ...     0   \n",
       "2     0     0     0     0     0     0     0     0     0     0  ...     0   \n",
       "3     0     0     0     0     0     0     0     0     0     0  ...     0   \n",
       "4     0     0     0     0     0     0     0     0     0     0  ...     0   \n",
       "\n",
       "   1589  1590  1591  1592  1593  1594  1595  1596  1597  \n",
       "0     0     0     0     0     0     0     0     0     0  \n",
       "1     0     0     0     0     0     0     0     0     0  \n",
       "2     0     0     0     0     0     0     0     0     0  \n",
       "3     0     0     0     0     0     0     0     0     0  \n",
       "4     0     0     0     0     0     0     0     0     1  \n",
       "\n",
       "[5 rows x 1598 columns]"
      ]
     },
     "execution_count": 88,
     "metadata": {},
     "output_type": "execute_result"
    }
   ],
   "source": [
    "x_train_new.head()"
   ]
  },
  {
   "cell_type": "markdown",
   "metadata": {
    "id": "3unCaaRySA04"
   },
   "source": []
  },
  {
   "cell_type": "markdown",
   "metadata": {
    "id": "xet09kDbsn0t"
   },
   "source": [
    "## Apply ML Algo\n",
    "### 1. RandomForest Classifier"
   ]
  },
  {
   "cell_type": "code",
   "execution_count": 89,
   "metadata": {
    "executionInfo": {
     "elapsed": 1091,
     "status": "ok",
     "timestamp": 1712690186050,
     "user": {
      "displayName": "Tushar_ jindal_088",
      "userId": "09309807250554195080"
     },
     "user_tz": -330
    },
    "id": "nIWfbxddlcUG"
   },
   "outputs": [],
   "source": [
    "from sklearn.ensemble import RandomForestClassifier\n",
    "rfc = RandomForestClassifier(n_estimators=100)\n",
    "rfc.fit(x_train_new , y_train)\n",
    "y_pred = rfc.predict(x_test_new)"
   ]
  },
  {
   "cell_type": "code",
   "execution_count": 90,
   "metadata": {
    "colab": {
     "base_uri": "https://localhost:8080/"
    },
    "executionInfo": {
     "elapsed": 407,
     "status": "ok",
     "timestamp": 1712690188112,
     "user": {
      "displayName": "Tushar_ jindal_088",
      "userId": "09309807250554195080"
     },
     "user_tz": -330
    },
    "id": "6Md6ojIRlcat",
    "outputId": "ce553a84-064a-4ab6-8c02-ad2e7b4bec64"
   },
   "outputs": [
    {
     "name": "stdout",
     "output_type": "stream",
     "text": [
      "accuracy_score 0.7236180904522613\n"
     ]
    }
   ],
   "source": [
    "from sklearn.metrics import accuracy_score\n",
    "print(f\"accuracy_score {accuracy_score(y_test ,y_pred)}\")"
   ]
  },
  {
   "cell_type": "markdown",
   "metadata": {
    "id": "tY_g156qsyOv"
   },
   "source": [
    "### 2. Logistic Regression"
   ]
  },
  {
   "cell_type": "code",
   "execution_count": 91,
   "metadata": {
    "executionInfo": {
     "elapsed": 710,
     "status": "ok",
     "timestamp": 1712690194583,
     "user": {
      "displayName": "Tushar_ jindal_088",
      "userId": "09309807250554195080"
     },
     "user_tz": -330
    },
    "id": "n-ePSFj7lcet"
   },
   "outputs": [],
   "source": [
    "from sklearn.linear_model import LogisticRegression\n",
    "lr = LogisticRegression()\n",
    "lr.fit(x_train_new , y_train)\n",
    "y_pred = lr.predict(x_test_new)"
   ]
  },
  {
   "cell_type": "code",
   "execution_count": 92,
   "metadata": {
    "colab": {
     "base_uri": "https://localhost:8080/"
    },
    "executionInfo": {
     "elapsed": 403,
     "status": "ok",
     "timestamp": 1712690198760,
     "user": {
      "displayName": "Tushar_ jindal_088",
      "userId": "09309807250554195080"
     },
     "user_tz": -330
    },
    "id": "iZutzVf3lche",
    "outputId": "44d49c16-da8c-48be-d7df-61f7240036f1"
   },
   "outputs": [
    {
     "name": "stdout",
     "output_type": "stream",
     "text": [
      "accuracy_score 0.7587939698492462\n"
     ]
    }
   ],
   "source": [
    "print(f\"accuracy_score {accuracy_score(y_test ,y_pred)}\")"
   ]
  },
  {
   "cell_type": "markdown",
   "metadata": {
    "id": "bY45zMqsrdz5"
   },
   "source": [
    "# Convert Text to Vector usinf TFIDF\n",
    "\n"
   ]
  },
  {
   "cell_type": "code",
   "execution_count": 93,
   "metadata": {
    "executionInfo": {
     "elapsed": 607,
     "status": "ok",
     "timestamp": 1712690225888,
     "user": {
      "displayName": "Tushar_ jindal_088",
      "userId": "09309807250554195080"
     },
     "user_tz": -330
    },
    "id": "MTOyd8vRpBNl"
   },
   "outputs": [],
   "source": [
    "from sklearn.feature_extraction.text import TfidfVectorizer\n",
    "tfidf = TfidfVectorizer()\n",
    "tfidf.fit(x_train[\" Review\"])\n",
    "x_train_tf=pd.DataFrame(tfidf.transform(x_train[\" Review\"]).toarray())\n",
    "x_test_tf=pd.DataFrame(tfidf.transform(x_test[' Review']).toarray())"
   ]
  },
  {
   "cell_type": "code",
   "execution_count": 94,
   "metadata": {
    "colab": {
     "base_uri": "https://localhost:8080/",
     "height": 255
    },
    "executionInfo": {
     "elapsed": 407,
     "status": "ok",
     "timestamp": 1712690230948,
     "user": {
      "displayName": "Tushar_ jindal_088",
      "userId": "09309807250554195080"
     },
     "user_tz": -330
    },
    "id": "4B9zwOVTqyeV",
    "outputId": "3236cde1-0af0-4ed0-dd74-a7182b6fd640"
   },
   "outputs": [
    {
     "data": {
      "text/html": [
       "<div>\n",
       "<style scoped>\n",
       "    .dataframe tbody tr th:only-of-type {\n",
       "        vertical-align: middle;\n",
       "    }\n",
       "\n",
       "    .dataframe tbody tr th {\n",
       "        vertical-align: top;\n",
       "    }\n",
       "\n",
       "    .dataframe thead th {\n",
       "        text-align: right;\n",
       "    }\n",
       "</style>\n",
       "<table border=\"1\" class=\"dataframe\">\n",
       "  <thead>\n",
       "    <tr style=\"text-align: right;\">\n",
       "      <th></th>\n",
       "      <th>0</th>\n",
       "      <th>1</th>\n",
       "      <th>2</th>\n",
       "      <th>3</th>\n",
       "      <th>4</th>\n",
       "      <th>5</th>\n",
       "      <th>6</th>\n",
       "      <th>7</th>\n",
       "      <th>8</th>\n",
       "      <th>9</th>\n",
       "      <th>...</th>\n",
       "      <th>1588</th>\n",
       "      <th>1589</th>\n",
       "      <th>1590</th>\n",
       "      <th>1591</th>\n",
       "      <th>1592</th>\n",
       "      <th>1593</th>\n",
       "      <th>1594</th>\n",
       "      <th>1595</th>\n",
       "      <th>1596</th>\n",
       "      <th>1597</th>\n",
       "    </tr>\n",
       "  </thead>\n",
       "  <tbody>\n",
       "    <tr>\n",
       "      <th>0</th>\n",
       "      <td>0.0</td>\n",
       "      <td>0.0</td>\n",
       "      <td>0.0</td>\n",
       "      <td>0.0</td>\n",
       "      <td>0.0</td>\n",
       "      <td>0.0</td>\n",
       "      <td>0.0</td>\n",
       "      <td>0.0</td>\n",
       "      <td>0.0</td>\n",
       "      <td>0.0</td>\n",
       "      <td>...</td>\n",
       "      <td>0.0</td>\n",
       "      <td>0.0</td>\n",
       "      <td>0.0</td>\n",
       "      <td>0.0</td>\n",
       "      <td>0.0</td>\n",
       "      <td>0.0</td>\n",
       "      <td>0.0</td>\n",
       "      <td>0.0</td>\n",
       "      <td>0.0</td>\n",
       "      <td>0.000000</td>\n",
       "    </tr>\n",
       "    <tr>\n",
       "      <th>1</th>\n",
       "      <td>0.0</td>\n",
       "      <td>0.0</td>\n",
       "      <td>0.0</td>\n",
       "      <td>0.0</td>\n",
       "      <td>0.0</td>\n",
       "      <td>0.0</td>\n",
       "      <td>0.0</td>\n",
       "      <td>0.0</td>\n",
       "      <td>0.0</td>\n",
       "      <td>0.0</td>\n",
       "      <td>...</td>\n",
       "      <td>0.0</td>\n",
       "      <td>0.0</td>\n",
       "      <td>0.0</td>\n",
       "      <td>0.0</td>\n",
       "      <td>0.0</td>\n",
       "      <td>0.0</td>\n",
       "      <td>0.0</td>\n",
       "      <td>0.0</td>\n",
       "      <td>0.0</td>\n",
       "      <td>0.000000</td>\n",
       "    </tr>\n",
       "    <tr>\n",
       "      <th>2</th>\n",
       "      <td>0.0</td>\n",
       "      <td>0.0</td>\n",
       "      <td>0.0</td>\n",
       "      <td>0.0</td>\n",
       "      <td>0.0</td>\n",
       "      <td>0.0</td>\n",
       "      <td>0.0</td>\n",
       "      <td>0.0</td>\n",
       "      <td>0.0</td>\n",
       "      <td>0.0</td>\n",
       "      <td>...</td>\n",
       "      <td>0.0</td>\n",
       "      <td>0.0</td>\n",
       "      <td>0.0</td>\n",
       "      <td>0.0</td>\n",
       "      <td>0.0</td>\n",
       "      <td>0.0</td>\n",
       "      <td>0.0</td>\n",
       "      <td>0.0</td>\n",
       "      <td>0.0</td>\n",
       "      <td>0.000000</td>\n",
       "    </tr>\n",
       "    <tr>\n",
       "      <th>3</th>\n",
       "      <td>0.0</td>\n",
       "      <td>0.0</td>\n",
       "      <td>0.0</td>\n",
       "      <td>0.0</td>\n",
       "      <td>0.0</td>\n",
       "      <td>0.0</td>\n",
       "      <td>0.0</td>\n",
       "      <td>0.0</td>\n",
       "      <td>0.0</td>\n",
       "      <td>0.0</td>\n",
       "      <td>...</td>\n",
       "      <td>0.0</td>\n",
       "      <td>0.0</td>\n",
       "      <td>0.0</td>\n",
       "      <td>0.0</td>\n",
       "      <td>0.0</td>\n",
       "      <td>0.0</td>\n",
       "      <td>0.0</td>\n",
       "      <td>0.0</td>\n",
       "      <td>0.0</td>\n",
       "      <td>0.000000</td>\n",
       "    </tr>\n",
       "    <tr>\n",
       "      <th>4</th>\n",
       "      <td>0.0</td>\n",
       "      <td>0.0</td>\n",
       "      <td>0.0</td>\n",
       "      <td>0.0</td>\n",
       "      <td>0.0</td>\n",
       "      <td>0.0</td>\n",
       "      <td>0.0</td>\n",
       "      <td>0.0</td>\n",
       "      <td>0.0</td>\n",
       "      <td>0.0</td>\n",
       "      <td>...</td>\n",
       "      <td>0.0</td>\n",
       "      <td>0.0</td>\n",
       "      <td>0.0</td>\n",
       "      <td>0.0</td>\n",
       "      <td>0.0</td>\n",
       "      <td>0.0</td>\n",
       "      <td>0.0</td>\n",
       "      <td>0.0</td>\n",
       "      <td>0.0</td>\n",
       "      <td>0.465409</td>\n",
       "    </tr>\n",
       "  </tbody>\n",
       "</table>\n",
       "<p>5 rows × 1598 columns</p>\n",
       "</div>"
      ],
      "text/plain": [
       "   0     1     2     3     4     5     6     7     8     9     ...  1588  \\\n",
       "0   0.0   0.0   0.0   0.0   0.0   0.0   0.0   0.0   0.0   0.0  ...   0.0   \n",
       "1   0.0   0.0   0.0   0.0   0.0   0.0   0.0   0.0   0.0   0.0  ...   0.0   \n",
       "2   0.0   0.0   0.0   0.0   0.0   0.0   0.0   0.0   0.0   0.0  ...   0.0   \n",
       "3   0.0   0.0   0.0   0.0   0.0   0.0   0.0   0.0   0.0   0.0  ...   0.0   \n",
       "4   0.0   0.0   0.0   0.0   0.0   0.0   0.0   0.0   0.0   0.0  ...   0.0   \n",
       "\n",
       "   1589  1590  1591  1592  1593  1594  1595  1596      1597  \n",
       "0   0.0   0.0   0.0   0.0   0.0   0.0   0.0   0.0  0.000000  \n",
       "1   0.0   0.0   0.0   0.0   0.0   0.0   0.0   0.0  0.000000  \n",
       "2   0.0   0.0   0.0   0.0   0.0   0.0   0.0   0.0  0.000000  \n",
       "3   0.0   0.0   0.0   0.0   0.0   0.0   0.0   0.0  0.000000  \n",
       "4   0.0   0.0   0.0   0.0   0.0   0.0   0.0   0.0  0.465409  \n",
       "\n",
       "[5 rows x 1598 columns]"
      ]
     },
     "execution_count": 94,
     "metadata": {},
     "output_type": "execute_result"
    }
   ],
   "source": [
    "x_train_tf.head()"
   ]
  },
  {
   "cell_type": "markdown",
   "metadata": {
    "id": "53p1hPKgs4y9"
   },
   "source": [
    "## Apply Ml Algo\n",
    "### 1. RandomForest Classifier"
   ]
  },
  {
   "cell_type": "code",
   "execution_count": 95,
   "metadata": {
    "colab": {
     "base_uri": "https://localhost:8080/"
    },
    "executionInfo": {
     "elapsed": 689,
     "status": "ok",
     "timestamp": 1712690235123,
     "user": {
      "displayName": "Tushar_ jindal_088",
      "userId": "09309807250554195080"
     },
     "user_tz": -330
    },
    "id": "hYFOhDvuq3GU",
    "outputId": "a4e38a08-88ef-4536-8d63-28f9982c7888"
   },
   "outputs": [
    {
     "name": "stdout",
     "output_type": "stream",
     "text": [
      "accuracy_score 0.7035175879396985\n"
     ]
    }
   ],
   "source": [
    "from sklearn.ensemble import RandomForestClassifier\n",
    "rfc = RandomForestClassifier(n_estimators=100)\n",
    "rfc.fit(x_train_tf , y_train)\n",
    "y_pred = rfc.predict(x_test_tf)\n",
    "print(f\"accuracy_score {accuracy_score(y_test ,y_pred)}\")"
   ]
  },
  {
   "cell_type": "markdown",
   "metadata": {
    "id": "XITUZ7TstCfH"
   },
   "source": [
    "### 2. Logistic Regression"
   ]
  },
  {
   "cell_type": "code",
   "execution_count": 96,
   "metadata": {
    "colab": {
     "base_uri": "https://localhost:8080/"
    },
    "executionInfo": {
     "elapsed": 407,
     "status": "ok",
     "timestamp": 1712690263081,
     "user": {
      "displayName": "Tushar_ jindal_088",
      "userId": "09309807250554195080"
     },
     "user_tz": -330
    },
    "id": "02hRepKFq-8Q",
    "outputId": "fdcd9c82-476c-4d6d-f4af-daf06b9416ef"
   },
   "outputs": [
    {
     "name": "stdout",
     "output_type": "stream",
     "text": [
      "accuracy_score 0.7537688442211056\n"
     ]
    }
   ],
   "source": [
    "from sklearn.linear_model import LogisticRegression\n",
    "lr = LogisticRegression()\n",
    "lr.fit(x_train_tf , y_train)\n",
    "y_pred = lr.predict(x_test_tf)\n",
    "print(f\"accuracy_score {accuracy_score(y_test ,y_pred)}\")"
   ]
  },
  {
   "cell_type": "markdown",
   "metadata": {},
   "source": [
    "# Word2vec"
   ]
  },
  {
   "cell_type": "code",
   "execution_count": 97,
   "metadata": {},
   "outputs": [],
   "source": [
    "from gensim.models import Word2Vec\n",
    "import gensim.downloader as api\n",
    "model = api.load('word2vec-google-news-300')\n",
    "\n",
    "# Define a function to apply average Word2Vec embedding\n",
    "def apply_avg2wordvec(sent):\n",
    "    sent = [word for word in sent if word in model.index_to_key]\n",
    "    if not sent:  # Check if sent is empty after filtering\n",
    "        return np.zeros(model.vector_size)  # Return zero vector if sent is empty\n",
    "    else:\n",
    "        return np.mean(model[sent], axis=0)\n",
    "\n",
    "# Apply average Word2Vec embedding to each sentence in corpus\n",
    "vector_corpus = [apply_avg2wordvec(s) for s in corpus_for_word2vec]\n",
    "\n",
    "# Convert the list of vectors to numpy array\n",
    "x = np.array(vector_corpus)\n",
    "\n",
    "# Split dataset into training and testing sets\n",
    "x_train, x_test, y_train, y_test = train_test_split(x, df[\"Liked\"], test_size=0.2, random_state=42)"
   ]
  },
  {
   "cell_type": "code",
   "execution_count": 98,
   "metadata": {},
   "outputs": [],
   "source": [
    "# from sklearn.preprocessing import LabelEncoder\n",
    "# le = LabelEncoder()\n",
    "# le.fit(y_train)\n",
    "# y_train = le.transform(y_train)\n",
    "# y_test = le.transform(y_test)"
   ]
  },
  {
   "cell_type": "code",
   "execution_count": 107,
   "metadata": {},
   "outputs": [
    {
     "name": "stdout",
     "output_type": "stream",
     "text": [
      "accuracy_score 0.7688442211055276\n"
     ]
    }
   ],
   "source": [
    "from sklearn.ensemble import RandomForestClassifier\n",
    "rfc = RandomForestClassifier(n_estimators=150)\n",
    "rfc.fit(x_train , y_train)\n",
    "y_pred = rfc.predict(x_test)\n",
    "print(f\"accuracy_score {accuracy_score(y_test ,y_pred)}\")"
   ]
  },
  {
   "cell_type": "code",
   "execution_count": 108,
   "metadata": {},
   "outputs": [
    {
     "name": "stdout",
     "output_type": "stream",
     "text": [
      "accuracy_score 0.7889447236180904\n"
     ]
    }
   ],
   "source": [
    "from sklearn.linear_model import LogisticRegression\n",
    "lr = LogisticRegression()\n",
    "lr.fit(x_train , y_train)\n",
    "y_pred = lr.predict(x_test)\n",
    "print(f\"accuracy_score {accuracy_score(y_test ,y_pred)}\")"
   ]
  },
  {
   "cell_type": "code",
   "execution_count": 109,
   "metadata": {},
   "outputs": [
    {
     "name": "stdout",
     "output_type": "stream",
     "text": [
      "accuracy_score :-  0.7788944723618091\n"
     ]
    }
   ],
   "source": [
    "from xgboost import XGBClassifier\n",
    "bst = XGBClassifier(n_estimators=300, max_depth=10 ,learning_rate=0.1)\n",
    "bst.fit(x_train, y_train)\n",
    "# make predictions\n",
    "preds = bst.predict(x_test)\n",
    "y_pred= bst.predict(x_test)\n",
    "from sklearn.metrics import accuracy_score\n",
    "print(\"accuracy_score :- \" , accuracy_score(y_test ,y_pred))"
   ]
  },
  {
   "cell_type": "code",
   "execution_count": 123,
   "metadata": {},
   "outputs": [
    {
     "name": "stdout",
     "output_type": "stream",
     "text": [
      "Epoch 1/80\n",
      "\u001b[1m792/792\u001b[0m \u001b[32m━━━━━━━━━━━━━━━━━━━━\u001b[0m\u001b[37m\u001b[0m \u001b[1m4s\u001b[0m 2ms/step - accuracy: 0.4910 - loss: 0.7182 - val_accuracy: 0.6784 - val_loss: 0.6663\n",
      "Epoch 2/80\n",
      "\u001b[1m792/792\u001b[0m \u001b[32m━━━━━━━━━━━━━━━━━━━━\u001b[0m\u001b[37m\u001b[0m \u001b[1m3s\u001b[0m 2ms/step - accuracy: 0.6043 - loss: 0.6602 - val_accuracy: 0.7538 - val_loss: 0.6084\n",
      "Epoch 3/80\n",
      "\u001b[1m792/792\u001b[0m \u001b[32m━━━━━━━━━━━━━━━━━━━━\u001b[0m\u001b[37m\u001b[0m \u001b[1m2s\u001b[0m 2ms/step - accuracy: 0.6407 - loss: 0.6136 - val_accuracy: 0.7588 - val_loss: 0.5145\n",
      "Epoch 4/80\n",
      "\u001b[1m792/792\u001b[0m \u001b[32m━━━━━━━━━━━━━━━━━━━━\u001b[0m\u001b[37m\u001b[0m \u001b[1m2s\u001b[0m 2ms/step - accuracy: 0.6631 - loss: 0.5968 - val_accuracy: 0.7487 - val_loss: 0.4915\n",
      "Epoch 5/80\n",
      "\u001b[1m792/792\u001b[0m \u001b[32m━━━━━━━━━━━━━━━━━━━━\u001b[0m\u001b[37m\u001b[0m \u001b[1m2s\u001b[0m 2ms/step - accuracy: 0.7074 - loss: 0.5444 - val_accuracy: 0.7538 - val_loss: 0.4989\n",
      "Epoch 6/80\n",
      "\u001b[1m792/792\u001b[0m \u001b[32m━━━━━━━━━━━━━━━━━━━━\u001b[0m\u001b[37m\u001b[0m \u001b[1m1s\u001b[0m 2ms/step - accuracy: 0.7303 - loss: 0.5485 - val_accuracy: 0.7739 - val_loss: 0.4838\n",
      "Epoch 7/80\n",
      "\u001b[1m792/792\u001b[0m \u001b[32m━━━━━━━━━━━━━━━━━━━━\u001b[0m\u001b[37m\u001b[0m \u001b[1m1s\u001b[0m 2ms/step - accuracy: 0.7292 - loss: 0.4995 - val_accuracy: 0.7789 - val_loss: 0.4603\n",
      "Epoch 8/80\n",
      "\u001b[1m792/792\u001b[0m \u001b[32m━━━━━━━━━━━━━━━━━━━━\u001b[0m\u001b[37m\u001b[0m \u001b[1m1s\u001b[0m 2ms/step - accuracy: 0.7799 - loss: 0.4847 - val_accuracy: 0.7739 - val_loss: 0.4503\n",
      "Epoch 9/80\n",
      "\u001b[1m792/792\u001b[0m \u001b[32m━━━━━━━━━━━━━━━━━━━━\u001b[0m\u001b[37m\u001b[0m \u001b[1m1s\u001b[0m 2ms/step - accuracy: 0.7843 - loss: 0.4906 - val_accuracy: 0.7889 - val_loss: 0.4644\n",
      "Epoch 10/80\n",
      "\u001b[1m792/792\u001b[0m \u001b[32m━━━━━━━━━━━━━━━━━━━━\u001b[0m\u001b[37m\u001b[0m \u001b[1m1s\u001b[0m 2ms/step - accuracy: 0.7727 - loss: 0.5145 - val_accuracy: 0.7839 - val_loss: 0.4481\n",
      "Epoch 11/80\n",
      "\u001b[1m792/792\u001b[0m \u001b[32m━━━━━━━━━━━━━━━━━━━━\u001b[0m\u001b[37m\u001b[0m \u001b[1m2s\u001b[0m 2ms/step - accuracy: 0.7670 - loss: 0.4692 - val_accuracy: 0.7839 - val_loss: 0.4422\n",
      "Epoch 12/80\n",
      "\u001b[1m792/792\u001b[0m \u001b[32m━━━━━━━━━━━━━━━━━━━━\u001b[0m\u001b[37m\u001b[0m \u001b[1m1s\u001b[0m 2ms/step - accuracy: 0.7531 - loss: 0.4647 - val_accuracy: 0.7839 - val_loss: 0.4401\n",
      "Epoch 13/80\n",
      "\u001b[1m792/792\u001b[0m \u001b[32m━━━━━━━━━━━━━━━━━━━━\u001b[0m\u001b[37m\u001b[0m \u001b[1m1s\u001b[0m 2ms/step - accuracy: 0.7969 - loss: 0.4168 - val_accuracy: 0.7889 - val_loss: 0.4505\n",
      "Epoch 14/80\n",
      "\u001b[1m792/792\u001b[0m \u001b[32m━━━━━━━━━━━━━━━━━━━━\u001b[0m\u001b[37m\u001b[0m \u001b[1m2s\u001b[0m 2ms/step - accuracy: 0.7790 - loss: 0.4474 - val_accuracy: 0.7789 - val_loss: 0.4816\n",
      "Epoch 15/80\n",
      "\u001b[1m792/792\u001b[0m \u001b[32m━━━━━━━━━━━━━━━━━━━━\u001b[0m\u001b[37m\u001b[0m \u001b[1m1s\u001b[0m 2ms/step - accuracy: 0.7920 - loss: 0.4466 - val_accuracy: 0.7789 - val_loss: 0.4742\n",
      "Epoch 16/80\n",
      "\u001b[1m792/792\u001b[0m \u001b[32m━━━━━━━━━━━━━━━━━━━━\u001b[0m\u001b[37m\u001b[0m \u001b[1m1s\u001b[0m 2ms/step - accuracy: 0.8011 - loss: 0.4507 - val_accuracy: 0.7889 - val_loss: 0.5153\n",
      "Epoch 17/80\n",
      "\u001b[1m792/792\u001b[0m \u001b[32m━━━━━━━━━━━━━━━━━━━━\u001b[0m\u001b[37m\u001b[0m \u001b[1m2s\u001b[0m 2ms/step - accuracy: 0.8161 - loss: 0.4112 - val_accuracy: 0.7940 - val_loss: 0.4655\n",
      "Epoch 18/80\n",
      "\u001b[1m792/792\u001b[0m \u001b[32m━━━━━━━━━━━━━━━━━━━━\u001b[0m\u001b[37m\u001b[0m \u001b[1m1s\u001b[0m 2ms/step - accuracy: 0.8114 - loss: 0.4126 - val_accuracy: 0.7889 - val_loss: 0.4728\n",
      "Epoch 19/80\n",
      "\u001b[1m792/792\u001b[0m \u001b[32m━━━━━━━━━━━━━━━━━━━━\u001b[0m\u001b[37m\u001b[0m \u001b[1m1s\u001b[0m 2ms/step - accuracy: 0.8306 - loss: 0.3752 - val_accuracy: 0.7839 - val_loss: 0.4721\n",
      "Epoch 20/80\n",
      "\u001b[1m792/792\u001b[0m \u001b[32m━━━━━━━━━━━━━━━━━━━━\u001b[0m\u001b[37m\u001b[0m \u001b[1m1s\u001b[0m 2ms/step - accuracy: 0.8218 - loss: 0.4161 - val_accuracy: 0.8090 - val_loss: 0.4749\n",
      "Epoch 21/80\n",
      "\u001b[1m792/792\u001b[0m \u001b[32m━━━━━━━━━━━━━━━━━━━━\u001b[0m\u001b[37m\u001b[0m \u001b[1m2s\u001b[0m 2ms/step - accuracy: 0.8092 - loss: 0.3582 - val_accuracy: 0.7940 - val_loss: 0.5252\n",
      "Epoch 22/80\n",
      "\u001b[1m792/792\u001b[0m \u001b[32m━━━━━━━━━━━━━━━━━━━━\u001b[0m\u001b[37m\u001b[0m \u001b[1m2s\u001b[0m 2ms/step - accuracy: 0.8145 - loss: 0.3696 - val_accuracy: 0.7839 - val_loss: 0.4909\n",
      "Epoch 23/80\n",
      "\u001b[1m792/792\u001b[0m \u001b[32m━━━━━━━━━━━━━━━━━━━━\u001b[0m\u001b[37m\u001b[0m \u001b[1m2s\u001b[0m 3ms/step - accuracy: 0.8145 - loss: 0.4036 - val_accuracy: 0.7889 - val_loss: 0.5217\n",
      "Epoch 24/80\n",
      "\u001b[1m792/792\u001b[0m \u001b[32m━━━━━━━━━━━━━━━━━━━━\u001b[0m\u001b[37m\u001b[0m \u001b[1m2s\u001b[0m 2ms/step - accuracy: 0.7925 - loss: 0.3899 - val_accuracy: 0.8090 - val_loss: 0.5098\n",
      "Epoch 25/80\n",
      "\u001b[1m792/792\u001b[0m \u001b[32m━━━━━━━━━━━━━━━━━━━━\u001b[0m\u001b[37m\u001b[0m \u001b[1m2s\u001b[0m 2ms/step - accuracy: 0.8219 - loss: 0.3732 - val_accuracy: 0.7940 - val_loss: 0.5201\n",
      "Epoch 26/80\n",
      "\u001b[1m792/792\u001b[0m \u001b[32m━━━━━━━━━━━━━━━━━━━━\u001b[0m\u001b[37m\u001b[0m \u001b[1m2s\u001b[0m 2ms/step - accuracy: 0.8292 - loss: 0.3517 - val_accuracy: 0.8040 - val_loss: 0.5474\n",
      "Epoch 27/80\n",
      "\u001b[1m792/792\u001b[0m \u001b[32m━━━━━━━━━━━━━━━━━━━━\u001b[0m\u001b[37m\u001b[0m \u001b[1m2s\u001b[0m 2ms/step - accuracy: 0.8324 - loss: 0.3382 - val_accuracy: 0.7990 - val_loss: 0.5460\n",
      "Epoch 28/80\n",
      "\u001b[1m792/792\u001b[0m \u001b[32m━━━━━━━━━━━━━━━━━━━━\u001b[0m\u001b[37m\u001b[0m \u001b[1m2s\u001b[0m 2ms/step - accuracy: 0.8373 - loss: 0.3535 - val_accuracy: 0.7789 - val_loss: 0.5457\n",
      "Epoch 29/80\n",
      "\u001b[1m792/792\u001b[0m \u001b[32m━━━━━━━━━━━━━━━━━━━━\u001b[0m\u001b[37m\u001b[0m \u001b[1m2s\u001b[0m 2ms/step - accuracy: 0.8327 - loss: 0.3319 - val_accuracy: 0.8241 - val_loss: 0.5160\n",
      "Epoch 30/80\n",
      "\u001b[1m792/792\u001b[0m \u001b[32m━━━━━━━━━━━━━━━━━━━━\u001b[0m\u001b[37m\u001b[0m \u001b[1m2s\u001b[0m 2ms/step - accuracy: 0.8536 - loss: 0.3746 - val_accuracy: 0.8090 - val_loss: 0.5853\n",
      "Epoch 31/80\n",
      "\u001b[1m792/792\u001b[0m \u001b[32m━━━━━━━━━━━━━━━━━━━━\u001b[0m\u001b[37m\u001b[0m \u001b[1m1s\u001b[0m 2ms/step - accuracy: 0.8434 - loss: 0.3381 - val_accuracy: 0.7889 - val_loss: 0.5624\n",
      "Epoch 32/80\n",
      "\u001b[1m792/792\u001b[0m \u001b[32m━━━━━━━━━━━━━━━━━━━━\u001b[0m\u001b[37m\u001b[0m \u001b[1m2s\u001b[0m 2ms/step - accuracy: 0.8149 - loss: 0.3771 - val_accuracy: 0.7990 - val_loss: 0.5576\n",
      "Epoch 33/80\n",
      "\u001b[1m792/792\u001b[0m \u001b[32m━━━━━━━━━━━━━━━━━━━━\u001b[0m\u001b[37m\u001b[0m \u001b[1m1s\u001b[0m 2ms/step - accuracy: 0.8311 - loss: 0.3503 - val_accuracy: 0.7839 - val_loss: 0.5940\n",
      "Epoch 34/80\n",
      "\u001b[1m792/792\u001b[0m \u001b[32m━━━━━━━━━━━━━━━━━━━━\u001b[0m\u001b[37m\u001b[0m \u001b[1m1s\u001b[0m 2ms/step - accuracy: 0.8381 - loss: 0.3455 - val_accuracy: 0.8090 - val_loss: 0.5553\n",
      "Epoch 35/80\n",
      "\u001b[1m792/792\u001b[0m \u001b[32m━━━━━━━━━━━━━━━━━━━━\u001b[0m\u001b[37m\u001b[0m \u001b[1m2s\u001b[0m 2ms/step - accuracy: 0.8458 - loss: 0.3258 - val_accuracy: 0.7839 - val_loss: 0.6569\n",
      "Epoch 36/80\n",
      "\u001b[1m792/792\u001b[0m \u001b[32m━━━━━━━━━━━━━━━━━━━━\u001b[0m\u001b[37m\u001b[0m \u001b[1m2s\u001b[0m 2ms/step - accuracy: 0.8578 - loss: 0.2878 - val_accuracy: 0.8040 - val_loss: 0.6580\n",
      "Epoch 37/80\n",
      "\u001b[1m792/792\u001b[0m \u001b[32m━━━━━━━━━━━━━━━━━━━━\u001b[0m\u001b[37m\u001b[0m \u001b[1m2s\u001b[0m 2ms/step - accuracy: 0.8503 - loss: 0.3370 - val_accuracy: 0.7889 - val_loss: 0.6013\n",
      "Epoch 38/80\n",
      "\u001b[1m792/792\u001b[0m \u001b[32m━━━━━━━━━━━━━━━━━━━━\u001b[0m\u001b[37m\u001b[0m \u001b[1m2s\u001b[0m 2ms/step - accuracy: 0.8445 - loss: 0.3249 - val_accuracy: 0.7940 - val_loss: 0.6181\n",
      "Epoch 39/80\n",
      "\u001b[1m792/792\u001b[0m \u001b[32m━━━━━━━━━━━━━━━━━━━━\u001b[0m\u001b[37m\u001b[0m \u001b[1m2s\u001b[0m 2ms/step - accuracy: 0.8437 - loss: 0.3266 - val_accuracy: 0.7990 - val_loss: 0.6791\n",
      "Epoch 40/80\n",
      "\u001b[1m792/792\u001b[0m \u001b[32m━━━━━━━━━━━━━━━━━━━━\u001b[0m\u001b[37m\u001b[0m \u001b[1m2s\u001b[0m 2ms/step - accuracy: 0.8620 - loss: 0.3507 - val_accuracy: 0.7889 - val_loss: 0.6549\n",
      "Epoch 41/80\n",
      "\u001b[1m792/792\u001b[0m \u001b[32m━━━━━━━━━━━━━━━━━━━━\u001b[0m\u001b[37m\u001b[0m \u001b[1m2s\u001b[0m 2ms/step - accuracy: 0.8448 - loss: 0.3127 - val_accuracy: 0.7990 - val_loss: 0.7394\n",
      "Epoch 42/80\n",
      "\u001b[1m792/792\u001b[0m \u001b[32m━━━━━━━━━━━━━━━━━━━━\u001b[0m\u001b[37m\u001b[0m \u001b[1m2s\u001b[0m 2ms/step - accuracy: 0.8701 - loss: 0.2801 - val_accuracy: 0.8040 - val_loss: 0.6529\n",
      "Epoch 43/80\n",
      "\u001b[1m792/792\u001b[0m \u001b[32m━━━━━━━━━━━━━━━━━━━━\u001b[0m\u001b[37m\u001b[0m \u001b[1m2s\u001b[0m 2ms/step - accuracy: 0.8529 - loss: 0.3077 - val_accuracy: 0.8241 - val_loss: 0.6729\n",
      "Epoch 44/80\n",
      "\u001b[1m792/792\u001b[0m \u001b[32m━━━━━━━━━━━━━━━━━━━━\u001b[0m\u001b[37m\u001b[0m \u001b[1m2s\u001b[0m 2ms/step - accuracy: 0.8368 - loss: 0.3234 - val_accuracy: 0.7789 - val_loss: 0.6615\n",
      "Epoch 45/80\n",
      "\u001b[1m792/792\u001b[0m \u001b[32m━━━━━━━━━━━━━━━━━━━━\u001b[0m\u001b[37m\u001b[0m \u001b[1m2s\u001b[0m 2ms/step - accuracy: 0.8562 - loss: 0.2865 - val_accuracy: 0.8241 - val_loss: 0.7271\n",
      "Epoch 46/80\n",
      "\u001b[1m792/792\u001b[0m \u001b[32m━━━━━━━━━━━━━━━━━━━━\u001b[0m\u001b[37m\u001b[0m \u001b[1m2s\u001b[0m 2ms/step - accuracy: 0.8623 - loss: 0.3184 - val_accuracy: 0.7940 - val_loss: 0.7467\n",
      "Epoch 47/80\n",
      "\u001b[1m792/792\u001b[0m \u001b[32m━━━━━━━━━━━━━━━━━━━━\u001b[0m\u001b[37m\u001b[0m \u001b[1m2s\u001b[0m 2ms/step - accuracy: 0.8518 - loss: 0.2969 - val_accuracy: 0.8040 - val_loss: 0.7423\n",
      "Epoch 48/80\n",
      "\u001b[1m792/792\u001b[0m \u001b[32m━━━━━━━━━━━━━━━━━━━━\u001b[0m\u001b[37m\u001b[0m \u001b[1m2s\u001b[0m 2ms/step - accuracy: 0.8513 - loss: 0.3599 - val_accuracy: 0.7839 - val_loss: 0.6880\n",
      "Epoch 49/80\n",
      "\u001b[1m792/792\u001b[0m \u001b[32m━━━━━━━━━━━━━━━━━━━━\u001b[0m\u001b[37m\u001b[0m \u001b[1m2s\u001b[0m 2ms/step - accuracy: 0.8818 - loss: 0.2846 - val_accuracy: 0.7940 - val_loss: 0.7956\n",
      "Epoch 50/80\n",
      "\u001b[1m792/792\u001b[0m \u001b[32m━━━━━━━━━━━━━━━━━━━━\u001b[0m\u001b[37m\u001b[0m \u001b[1m2s\u001b[0m 2ms/step - accuracy: 0.8809 - loss: 0.2797 - val_accuracy: 0.8040 - val_loss: 0.8666\n",
      "Epoch 51/80\n",
      "\u001b[1m792/792\u001b[0m \u001b[32m━━━━━━━━━━━━━━━━━━━━\u001b[0m\u001b[37m\u001b[0m \u001b[1m2s\u001b[0m 2ms/step - accuracy: 0.8690 - loss: 0.2943 - val_accuracy: 0.7940 - val_loss: 0.7995\n",
      "Epoch 52/80\n",
      "\u001b[1m792/792\u001b[0m \u001b[32m━━━━━━━━━━━━━━━━━━━━\u001b[0m\u001b[37m\u001b[0m \u001b[1m2s\u001b[0m 2ms/step - accuracy: 0.8844 - loss: 0.2635 - val_accuracy: 0.8141 - val_loss: 0.8335\n",
      "Epoch 53/80\n",
      "\u001b[1m792/792\u001b[0m \u001b[32m━━━━━━━━━━━━━━━━━━━━\u001b[0m\u001b[37m\u001b[0m \u001b[1m2s\u001b[0m 2ms/step - accuracy: 0.8602 - loss: 0.2885 - val_accuracy: 0.8040 - val_loss: 0.7687\n",
      "Epoch 54/80\n",
      "\u001b[1m792/792\u001b[0m \u001b[32m━━━━━━━━━━━━━━━━━━━━\u001b[0m\u001b[37m\u001b[0m \u001b[1m2s\u001b[0m 3ms/step - accuracy: 0.8582 - loss: 0.2917 - val_accuracy: 0.7839 - val_loss: 0.7458\n",
      "Epoch 55/80\n",
      "\u001b[1m792/792\u001b[0m \u001b[32m━━━━━━━━━━━━━━━━━━━━\u001b[0m\u001b[37m\u001b[0m \u001b[1m2s\u001b[0m 2ms/step - accuracy: 0.8843 - loss: 0.2548 - val_accuracy: 0.7940 - val_loss: 0.7926\n",
      "Epoch 56/80\n",
      "\u001b[1m792/792\u001b[0m \u001b[32m━━━━━━━━━━━━━━━━━━━━\u001b[0m\u001b[37m\u001b[0m \u001b[1m2s\u001b[0m 2ms/step - accuracy: 0.8827 - loss: 0.2452 - val_accuracy: 0.7990 - val_loss: 0.9099\n",
      "Epoch 57/80\n",
      "\u001b[1m792/792\u001b[0m \u001b[32m━━━━━━━━━━━━━━━━━━━━\u001b[0m\u001b[37m\u001b[0m \u001b[1m2s\u001b[0m 2ms/step - accuracy: 0.8600 - loss: 0.2599 - val_accuracy: 0.7839 - val_loss: 0.9901\n",
      "Epoch 58/80\n",
      "\u001b[1m792/792\u001b[0m \u001b[32m━━━━━━━━━━━━━━━━━━━━\u001b[0m\u001b[37m\u001b[0m \u001b[1m2s\u001b[0m 3ms/step - accuracy: 0.8417 - loss: 0.3107 - val_accuracy: 0.7839 - val_loss: 0.9176\n",
      "Epoch 59/80\n",
      "\u001b[1m792/792\u001b[0m \u001b[32m━━━━━━━━━━━━━━━━━━━━\u001b[0m\u001b[37m\u001b[0m \u001b[1m2s\u001b[0m 2ms/step - accuracy: 0.8373 - loss: 0.3053 - val_accuracy: 0.7940 - val_loss: 0.8410\n",
      "Epoch 60/80\n",
      "\u001b[1m792/792\u001b[0m \u001b[32m━━━━━━━━━━━━━━━━━━━━\u001b[0m\u001b[37m\u001b[0m \u001b[1m2s\u001b[0m 2ms/step - accuracy: 0.8773 - loss: 0.2805 - val_accuracy: 0.8040 - val_loss: 0.8547\n",
      "Epoch 61/80\n",
      "\u001b[1m792/792\u001b[0m \u001b[32m━━━━━━━━━━━━━━━━━━━━\u001b[0m\u001b[37m\u001b[0m \u001b[1m2s\u001b[0m 3ms/step - accuracy: 0.8721 - loss: 0.2674 - val_accuracy: 0.7940 - val_loss: 0.8343\n",
      "Epoch 62/80\n",
      "\u001b[1m792/792\u001b[0m \u001b[32m━━━━━━━━━━━━━━━━━━━━\u001b[0m\u001b[37m\u001b[0m \u001b[1m2s\u001b[0m 2ms/step - accuracy: 0.8648 - loss: 0.2720 - val_accuracy: 0.7889 - val_loss: 1.0618\n",
      "Epoch 63/80\n",
      "\u001b[1m792/792\u001b[0m \u001b[32m━━━━━━━━━━━━━━━━━━━━\u001b[0m\u001b[37m\u001b[0m \u001b[1m2s\u001b[0m 2ms/step - accuracy: 0.8949 - loss: 0.2568 - val_accuracy: 0.7889 - val_loss: 0.9761\n",
      "Epoch 64/80\n",
      "\u001b[1m792/792\u001b[0m \u001b[32m━━━━━━━━━━━━━━━━━━━━\u001b[0m\u001b[37m\u001b[0m \u001b[1m2s\u001b[0m 2ms/step - accuracy: 0.8988 - loss: 0.2401 - val_accuracy: 0.7990 - val_loss: 0.9198\n",
      "Epoch 65/80\n",
      "\u001b[1m792/792\u001b[0m \u001b[32m━━━━━━━━━━━━━━━━━━━━\u001b[0m\u001b[37m\u001b[0m \u001b[1m2s\u001b[0m 2ms/step - accuracy: 0.8620 - loss: 0.3017 - val_accuracy: 0.7990 - val_loss: 0.9591\n",
      "Epoch 66/80\n",
      "\u001b[1m792/792\u001b[0m \u001b[32m━━━━━━━━━━━━━━━━━━━━\u001b[0m\u001b[37m\u001b[0m \u001b[1m2s\u001b[0m 3ms/step - accuracy: 0.8644 - loss: 0.2635 - val_accuracy: 0.7940 - val_loss: 1.0069\n",
      "Epoch 67/80\n",
      "\u001b[1m792/792\u001b[0m \u001b[32m━━━━━━━━━━━━━━━━━━━━\u001b[0m\u001b[37m\u001b[0m \u001b[1m2s\u001b[0m 3ms/step - accuracy: 0.8955 - loss: 0.2378 - val_accuracy: 0.7940 - val_loss: 0.9255\n",
      "Epoch 68/80\n",
      "\u001b[1m792/792\u001b[0m \u001b[32m━━━━━━━━━━━━━━━━━━━━\u001b[0m\u001b[37m\u001b[0m \u001b[1m2s\u001b[0m 2ms/step - accuracy: 0.8874 - loss: 0.2878 - val_accuracy: 0.8090 - val_loss: 0.9560\n",
      "Epoch 69/80\n",
      "\u001b[1m792/792\u001b[0m \u001b[32m━━━━━━━━━━━━━━━━━━━━\u001b[0m\u001b[37m\u001b[0m \u001b[1m2s\u001b[0m 2ms/step - accuracy: 0.8562 - loss: 0.2835 - val_accuracy: 0.7990 - val_loss: 0.9625\n",
      "Epoch 70/80\n",
      "\u001b[1m792/792\u001b[0m \u001b[32m━━━━━━━━━━━━━━━━━━━━\u001b[0m\u001b[37m\u001b[0m \u001b[1m2s\u001b[0m 3ms/step - accuracy: 0.8798 - loss: 0.2796 - val_accuracy: 0.7889 - val_loss: 0.9494\n",
      "Epoch 71/80\n",
      "\u001b[1m792/792\u001b[0m \u001b[32m━━━━━━━━━━━━━━━━━━━━\u001b[0m\u001b[37m\u001b[0m \u001b[1m2s\u001b[0m 2ms/step - accuracy: 0.8982 - loss: 0.2447 - val_accuracy: 0.7789 - val_loss: 0.9199\n",
      "Epoch 72/80\n",
      "\u001b[1m792/792\u001b[0m \u001b[32m━━━━━━━━━━━━━━━━━━━━\u001b[0m\u001b[37m\u001b[0m \u001b[1m2s\u001b[0m 3ms/step - accuracy: 0.8808 - loss: 0.2481 - val_accuracy: 0.7889 - val_loss: 1.0710\n",
      "Epoch 73/80\n",
      "\u001b[1m792/792\u001b[0m \u001b[32m━━━━━━━━━━━━━━━━━━━━\u001b[0m\u001b[37m\u001b[0m \u001b[1m3s\u001b[0m 3ms/step - accuracy: 0.9029 - loss: 0.2257 - val_accuracy: 0.7990 - val_loss: 1.1586\n",
      "Epoch 74/80\n",
      "\u001b[1m792/792\u001b[0m \u001b[32m━━━━━━━━━━━━━━━━━━━━\u001b[0m\u001b[37m\u001b[0m \u001b[1m2s\u001b[0m 3ms/step - accuracy: 0.8750 - loss: 0.2623 - val_accuracy: 0.7940 - val_loss: 1.0097\n",
      "Epoch 75/80\n",
      "\u001b[1m792/792\u001b[0m \u001b[32m━━━━━━━━━━━━━━━━━━━━\u001b[0m\u001b[37m\u001b[0m \u001b[1m2s\u001b[0m 2ms/step - accuracy: 0.8817 - loss: 0.2361 - val_accuracy: 0.7789 - val_loss: 1.1145\n",
      "Epoch 76/80\n",
      "\u001b[1m792/792\u001b[0m \u001b[32m━━━━━━━━━━━━━━━━━━━━\u001b[0m\u001b[37m\u001b[0m \u001b[1m2s\u001b[0m 3ms/step - accuracy: 0.8803 - loss: 0.2531 - val_accuracy: 0.7889 - val_loss: 1.1751\n",
      "Epoch 77/80\n",
      "\u001b[1m792/792\u001b[0m \u001b[32m━━━━━━━━━━━━━━━━━━━━\u001b[0m\u001b[37m\u001b[0m \u001b[1m2s\u001b[0m 2ms/step - accuracy: 0.8908 - loss: 0.2256 - val_accuracy: 0.7990 - val_loss: 1.2337\n",
      "Epoch 78/80\n",
      "\u001b[1m792/792\u001b[0m \u001b[32m━━━━━━━━━━━━━━━━━━━━\u001b[0m\u001b[37m\u001b[0m \u001b[1m2s\u001b[0m 2ms/step - accuracy: 0.8852 - loss: 0.2653 - val_accuracy: 0.7839 - val_loss: 1.2070\n",
      "Epoch 79/80\n",
      "\u001b[1m792/792\u001b[0m \u001b[32m━━━━━━━━━━━━━━━━━━━━\u001b[0m\u001b[37m\u001b[0m \u001b[1m2s\u001b[0m 2ms/step - accuracy: 0.8650 - loss: 0.2806 - val_accuracy: 0.7739 - val_loss: 0.9846\n",
      "Epoch 80/80\n",
      "\u001b[1m792/792\u001b[0m \u001b[32m━━━━━━━━━━━━━━━━━━━━\u001b[0m\u001b[37m\u001b[0m \u001b[1m2s\u001b[0m 2ms/step - accuracy: 0.8970 - loss: 0.2200 - val_accuracy: 0.8090 - val_loss: 1.3430\n",
      "\u001b[1m7/7\u001b[0m \u001b[32m━━━━━━━━━━━━━━━━━━━━\u001b[0m\u001b[37m\u001b[0m \u001b[1m0s\u001b[0m 4ms/step - accuracy: 0.8083 - loss: 1.5097  \n",
      "Test Loss: 1.6504100561141968\n",
      "Test Accuracy: 0.8090452551841736\n"
     ]
    }
   ],
   "source": [
    "import tensorflow as tf\n",
    "from tensorflow.keras.models import Sequential\n",
    "from tensorflow.keras.layers import Dense, Dropout\n",
    "\n",
    "model = Sequential([\n",
    "    Dense(50, input_dim=x_train.shape[1], activation='relu'),\n",
    "    Dropout(0.7),\n",
    "    Dense(25, activation='relu'),\n",
    "    Dropout(0.5),\n",
    "    Dense(5, activation='relu'),\n",
    "    Dropout(0.5),\n",
    "    Dense(1, activation='sigmoid')\n",
    "])\n",
    "\n",
    "# Compile the model\n",
    "model.compile(optimizer='adam', loss='binary_crossentropy', metrics=['accuracy'])\n",
    "\n",
    "# Train the model\n",
    "model.fit(x_train, y_train, epochs=80, batch_size=1,validation_data =(x_test , y_test) )\n",
    "\n",
    "# Evaluate the model\n",
    "loss, accuracy = model.evaluate(x_test, y_test)\n",
    "print(\"Test Loss:\", loss)\n",
    "print(\"Test Accuracy:\", accuracy)"
   ]
  }
 ],
 "metadata": {
  "colab": {
   "provenance": [
    {
     "file_id": "1T4oYDtKgCZSdWO6lSj7_Y2p1PLe6AxyY",
     "timestamp": 1712690778561
    }
   ]
  },
  "kernelspec": {
   "display_name": "Python 3 (ipykernel)",
   "language": "python",
   "name": "python3"
  },
  "language_info": {
   "codemirror_mode": {
    "name": "ipython",
    "version": 3
   },
   "file_extension": ".py",
   "mimetype": "text/x-python",
   "name": "python",
   "nbconvert_exporter": "python",
   "pygments_lexer": "ipython3",
   "version": "3.11.6"
  }
 },
 "nbformat": 4,
 "nbformat_minor": 4
}
